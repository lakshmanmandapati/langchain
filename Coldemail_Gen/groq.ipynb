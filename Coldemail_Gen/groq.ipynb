{
 "cells": [
  {
   "cell_type": "code",
   "execution_count": null,
   "id": "d169c52b",
   "metadata": {},
   "outputs": [
    {
     "name": "stdout",
     "output_type": "stream",
     "text": [
      "OpenAI was founded in 2015 by a group of individuals, including:\n",
      "\n",
      "1. Elon Musk: Business magnate and entrepreneur, known for his involvement in companies like SpaceX and Tesla.\n",
      "2. Sam Altman: Entrepreneur and investor, who is also the current CEO of OpenAI.\n",
      "3. Greg Brockman: Engineer and entrepreneur, who is also a co-founder and CTO of OpenAI.\n",
      "4. Ilya Sutskever: Computer scientist and entrepreneur, who is also the former CTO of OpenAI.\n",
      "5. John Schulman: Computer scientist and entrepreneur, who is also a co-founder of OpenAI.\n",
      "6. Wojciech Zaremba: Computer scientist and entrepreneur, who is also a co-founder of OpenAI.\n",
      "\n",
      "These individuals, along with others, came together to form OpenAI, a non-profit research organization focused on developing and promoting artificial intelligence (AI) for the benefit of humanity.\n"
     ]
    }
   ],
   "source": [
    "from langchain_groq import ChatGroq\n",
    "\n",
    "llm = ChatGroq(\n",
    "    temperature=0, \n",
    "    groq_api_key='your_api_key_here', \n",
    "    model_name=\"llama-3.3-70b-versatile\"\n",
    ")\n",
    "\n",
    "response = llm.invoke(\"Who is the founder of OpenAI?\")\n",
    "print(response.content)"
   ]
  }
 ],
 "metadata": {
  "kernelspec": {
   "display_name": "Python 3",
   "language": "python",
   "name": "python3"
  },
  "language_info": {
   "codemirror_mode": {
    "name": "ipython",
    "version": 3
   },
   "file_extension": ".py",
   "mimetype": "text/x-python",
   "name": "python",
   "nbconvert_exporter": "python",
   "pygments_lexer": "ipython3",
   "version": "3.10.0"
  }
 },
 "nbformat": 4,
 "nbformat_minor": 5
}
