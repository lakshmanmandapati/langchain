{
 "cells": [
  {
   "cell_type": "code",
   "execution_count": 1,
   "id": "fb7ab343",
   "metadata": {},
   "outputs": [],
   "source": [
    "from langchain_groq import ChatGroq"
   ]
  },
  {
   "cell_type": "code",
   "execution_count": null,
   "id": "879023ff",
   "metadata": {},
   "outputs": [
    {
     "name": "stdout",
     "output_type": "stream",
     "text": [
      "The first person to land on the moon was Neil Armstrong. He stepped out of the lunar module Eagle and onto the moon's surface on July 20, 1969, during the Apollo 11 mission. Armstrong famously declared, \"That's one small step for man, one giant leap for mankind,\" as he became the first human to set foot on the moon.\n"
     ]
    }
   ],
   "source": [
    "llm = ChatGroq(\n",
    "    temperature=0, \n",
    "    groq_api_key='your_api_key_here', \n",
    "    model_name=\"llama-3.3-70b-versatile\"\n",
    ")\n",
    "response = llm.invoke(\"The first person to land on moon was ...\")\n",
    "print(response.content)"
   ]
  },
  {
   "cell_type": "code",
   "execution_count": 5,
   "id": "9e5fa9b2",
   "metadata": {},
   "outputs": [
    {
     "name": "stdout",
     "output_type": "stream",
     "text": [
      "Job Application for Data Scientist at GrammarlyBack to jobsData ScientistBerlin; HybridApplyGrammarly team members in this role must be based in Berlin or Kyiv, and they must be able to collaborate in person at least two days per week\n",
      "About Grammarly\n",
      "Grammarly is the trusted AI assistant for communication and productivity, helping over 40 million people and 50,000 organizations do their best work. Companies like Atlassian, Databricks, and Zoom rely on Grammarly to brainstorm, compose, and enhance communication that moves work forward. Grammarly works where you work, integrating seamlessly with over 500,000 applications and websites. Founded in 2009, Grammarly is No. 7 on the Forbes Cloud 100, one of TIME’s 100 Most Influential Companies, one of Fast Company’s Most Innovative Companies in AI, and one of Inc.’s Best Workplaces.\n",
      "The Opportunity\n",
      "To achieve our ambitious goals, we’re looking for a Data Scientist to join our growing Data team and community. Data scientists on our team work closely with cross-functional partners in Product and Engineering to define and improve Grammarly’s core product experience. Our mission is to build great products using data—products that directly and elegantly address real user needs, provide high-quality, trustworthy suggestions, and are easy to use and deeply integrated into users’ workflows. Data science is central to how we evolve the product, grounding roadmap decisions in user behavior insights and enabling rapid iteration through experimentation.\n",
      "The Grammarly data teams are trusted subject matter experts who uncover new insights to inform marketing, product, and growth strategies that drive outcomes at the highest levels of the company. We have large datasets and are looking for folks with deep technical and analytical skills who can break down complex business problems and provide solutions with high visibility and impact for the company.\n",
      "Grammarly’s engineers and researchers have the freedom to innovate and uncover breakthroughs—and, in turn, influence our product roadmap. The complexity of our technical challenges is growing rapidly as we scale our interfaces, algorithms, and infrastructure. You can hear more from our team on our technical blog.\n",
      "As a Data Scientist, you will: \n",
      "\n",
      "Leverage various data science methods such as statistical modeling and causal inference to optimize the product experience.\n",
      "Tackle some of our company's most challenging and critical data problems today, which will shape Grammarly’s growth.\n",
      "Create, analyze, and monitor crucial metrics and indicators that reflect Grammarly's product quality and user engagement, directly supporting the mission of rapid product iteration based on solid data.\n",
      "Examine the effects of user engagement in product experiments, aiding teams in making informed decisions. \n",
      "Collaborate with Product and  Engineering teams to set up, test, and evaluate hypotheses. This central role in testing and iteration is vital for the team's product development strategy.\n",
      "Collaborate with other Data Scientists to continue enhancing the methodologies and practices used across the team and leveraging the newest technological developments in the industry.\n",
      "\n",
      "Qualifications\n",
      "\n",
      "Holds a PhD or Master’s degree in a quantitative field.\n",
      "Has 5+ years of work experience in Data Science.\n",
      "Has a strong understanding of statistical concepts with practical application in business environments, including A/B testing, offline evaluations, and metric validation.\n",
      "Knowledgeable in standard regression and classification methods, beneficial for developing and validating metrics. \n",
      "Experienced in A/B testing and other measurement strategies to discern correlational and causal relationships among variables. \n",
      "Skilled in SQL, Python, PySpark, etc., ensuring accurate and efficient data retrieval for analysis.\n",
      "Has a self-starting growth mindset and strong communication skills, translating technical insights into impactful business recommendations.\n",
      "Can collaborate with cross-functional teams, such as Engineering, Product, and Data Platforms, to define metrics that align with the organizational vision and measure performance.\n",
      "Embodies our EAGER values—is ethical, adaptable, gritty, empathetic, and remarkable.\n",
      "Is inspired by our MOVE principles: move fast and learn faster; obsess about creating customer value; value impact over activity; and embrace healthy disagreement rooted in trust.\n",
      "\n",
      "Support for you, professionally and personally\n",
      "\n",
      "Professional growth: We believe that autonomy and trust are key to empowering our team members to do their best, most innovative work in a way that aligns with their interests, talents, and well-being. We also support professional development and advancement with training, coaching, and regular feedback.\n",
      "A connected team: Grammarly builds a product that helps people connect, and we apply this mindset to our own team. Our remote-first hybrid model enables a highly collaborative culture supported by our EAGER (ethical, adaptable, gritty, empathetic, and remarkable) values. We work to foster belonging among team members in a variety of ways. This includes our employee resource groups, Grammarly Circles, which promote connection among those with shared identities including BIPOC and LGBTQIA+ team members, women, and parents. We also celebrate our colleagues and accomplishments with global, local, and team-specific programs. \n",
      "Comprehensive benefits for candidates based in Germany: Grammarly offers all team members competitive pay along with a benefits package encompassing life care (including mental health care and risk benefits) and ample and defined time off. We also offer support to set up a home office, wellness and pet care stipends, learning and development opportunities, and more.\n",
      "\n",
      "We encourage you to apply\n",
      "At Grammarly, we value our differences, and we encourage all to apply. Grammarly is an equal-opportunity company. We do not discriminate on the basis of race or ethnic origin, religion or belief, gender, disability, sexual identity, or age.\n",
      "For more details about the personal data Grammarly collects during the recruitment process, for what purposes, and how you can address your rights, please see the Grammarly Data Privacy Notice for Candidates here. #LI-Hybrid\n",
      " Apply for this job*indicates a required fieldFirst Name*Last Name*Preferred First NameEmail*PhoneResume/CVAttachAttachDropboxGoogle DriveEnter manuallyEnter manuallyAccepted file types: pdf, doc, docx, txt, rtfCover LetterAttachAttachDropboxGoogle DriveEnter manuallyEnter manuallyAccepted file types: pdf, doc, docx, txt, rtfLinkedIn ProfileWebsiteDo you have minimum 5 years of experience as Data Scientist?*Select...Are you located in the European Union?*Select...Are you currently authorized to work in Germany?*Select...Do you currently live within 50 miles/80km of the Berlin hub?*Select...If you don't currently live within 50 miles/80 km of the Berlin hub, are you willing to relocate?*Select...Submit applicationPowered byGreenhouseRead our Privacy Policy\n"
     ]
    }
   ],
   "source": [
    "from langchain_community.document_loaders import WebBaseLoader\n",
    "\n",
    "loader = WebBaseLoader(\"https://job-boards.greenhouse.io/grammarly/jobs/6916911\")\n",
    "page_data = loader.load().pop().page_content\n",
    "print(page_data)"
   ]
  },
  {
   "cell_type": "code",
   "execution_count": 6,
   "id": "e45160bd",
   "metadata": {},
   "outputs": [
    {
     "data": {
      "text/plain": [
       "str"
      ]
     },
     "execution_count": 6,
     "metadata": {},
     "output_type": "execute_result"
    }
   ],
   "source": [
    "from langchain_core.prompts import PromptTemplate\n",
    "\n",
    "prompt_extract = PromptTemplate.from_template(\n",
    "        \"\"\"\n",
    "        ### SCRAPED TEXT FROM WEBSITE:\n",
    "        {page_data}\n",
    "        ### INSTRUCTION:\n",
    "        The scraped text is from the career's page of a website.\n",
    "        Your job is to extract the job postings and return them in JSON format containing the \n",
    "        following keys: `role`, `experience`, `skills` and `description`.\n",
    "        Only return the valid JSON.\n",
    "        ### VALID JSON (NO PREAMBLE):    \n",
    "        \"\"\"\n",
    ")\n",
    "\n",
    "chain_extract = prompt_extract | llm \n",
    "res = chain_extract.invoke(input={'page_data':page_data})\n",
    "type(res.content)"
   ]
  },
  {
   "cell_type": "code",
   "execution_count": 7,
   "id": "bce4f13f",
   "metadata": {},
   "outputs": [
    {
     "data": {
      "text/plain": [
       "{'role': 'Data Scientist',\n",
       " 'experience': '5+ years of work experience in Data Science',\n",
       " 'skills': ['Statistical modeling',\n",
       "  'Causal inference',\n",
       "  'A/B testing',\n",
       "  'Offline evaluations',\n",
       "  'Metric validation',\n",
       "  'Regression',\n",
       "  'Classification',\n",
       "  'SQL',\n",
       "  'Python',\n",
       "  'PySpark'],\n",
       " 'description': 'To achieve our ambitious goals, we’re looking for a Data Scientist to join our growing Data team and community. Data scientists on our team work closely with cross-functional partners in Product and Engineering to define and improve Grammarly’s core product experience.'}"
      ]
     },
     "execution_count": 7,
     "metadata": {},
     "output_type": "execute_result"
    }
   ],
   "source": [
    "from langchain_core.output_parsers import JsonOutputParser\n",
    "\n",
    "json_parser = JsonOutputParser()\n",
    "json_res = json_parser.parse(res.content)\n",
    "json_res"
   ]
  },
  {
   "cell_type": "code",
   "execution_count": 23,
   "id": "b2fb464c",
   "metadata": {},
   "outputs": [
    {
     "data": {
      "text/html": [
       "<div>\n",
       "<style scoped>\n",
       "    .dataframe tbody tr th:only-of-type {\n",
       "        vertical-align: middle;\n",
       "    }\n",
       "\n",
       "    .dataframe tbody tr th {\n",
       "        vertical-align: top;\n",
       "    }\n",
       "\n",
       "    .dataframe thead th {\n",
       "        text-align: right;\n",
       "    }\n",
       "</style>\n",
       "<table border=\"1\" class=\"dataframe\">\n",
       "  <thead>\n",
       "    <tr style=\"text-align: right;\">\n",
       "      <th></th>\n",
       "      <th>role</th>\n",
       "      <th>experience</th>\n",
       "      <th>skills</th>\n",
       "      <th>description</th>\n",
       "      <th>links</th>\n",
       "    </tr>\n",
       "  </thead>\n",
       "  <tbody>\n",
       "    <tr>\n",
       "      <th>0</th>\n",
       "      <td>Data Scientist</td>\n",
       "      <td>5+ years of work experience in Data Science</td>\n",
       "      <td>Statistical modeling, Causal inference, A/B te...</td>\n",
       "      <td>To achieve our ambitious goals, we’re looking ...</td>\n",
       "      <td>https://example.com/portfolio/data-scientist</td>\n",
       "    </tr>\n",
       "    <tr>\n",
       "      <th>1</th>\n",
       "      <td>Backend Developer</td>\n",
       "      <td>4+ years of experience in backend systems and ...</td>\n",
       "      <td>Node.js, Express.js, MongoDB, PostgreSQL, REST...</td>\n",
       "      <td>We’re seeking a Backend Developer to design sc...</td>\n",
       "      <td>https://example.com/portfolio/backend-developer</td>\n",
       "    </tr>\n",
       "    <tr>\n",
       "      <th>2</th>\n",
       "      <td>Frontend Developer</td>\n",
       "      <td>3+ years of frontend development experience</td>\n",
       "      <td>React, Redux, JavaScript, HTML5, CSS3, TypeScr...</td>\n",
       "      <td>We are looking for a Frontend Developer to bui...</td>\n",
       "      <td>https://example.com/portfolio/frontend-developer</td>\n",
       "    </tr>\n",
       "    <tr>\n",
       "      <th>3</th>\n",
       "      <td>DevOps Engineer</td>\n",
       "      <td>5+ years working in cloud infrastructure and a...</td>\n",
       "      <td>AWS, Terraform, Kubernetes, Jenkins, CI/CD Pip...</td>\n",
       "      <td>Join our DevOps team to improve system reliabi...</td>\n",
       "      <td>https://example.com/portfolio/devops-engineer</td>\n",
       "    </tr>\n",
       "    <tr>\n",
       "      <th>4</th>\n",
       "      <td>Machine Learning Engineer</td>\n",
       "      <td>4+ years of experience in machine learning dev...</td>\n",
       "      <td>Python, TensorFlow, PyTorch, scikit-learn, MLf...</td>\n",
       "      <td>We’re hiring an ML Engineer to deploy and opti...</td>\n",
       "      <td>https://example.com/portfolio/machine-learning...</td>\n",
       "    </tr>\n",
       "    <tr>\n",
       "      <th>5</th>\n",
       "      <td>Cybersecurity Engineer</td>\n",
       "      <td>5+ years of experience in securing infrastruct...</td>\n",
       "      <td>Network Security, OWASP Top 10, Penetration Te...</td>\n",
       "      <td>We’re looking for a Cybersecurity Engineer to ...</td>\n",
       "      <td>https://example.com/portfolio/cybersecurity-en...</td>\n",
       "    </tr>\n",
       "    <tr>\n",
       "      <th>6</th>\n",
       "      <td>Cloud Engineer</td>\n",
       "      <td>4+ years working with cloud services and infra...</td>\n",
       "      <td>Azure, AWS, Google Cloud Platform, Terraform, ...</td>\n",
       "      <td>Looking for a Cloud Engineer to design, deploy...</td>\n",
       "      <td>https://example.com/portfolio/cloud-engineer</td>\n",
       "    </tr>\n",
       "    <tr>\n",
       "      <th>7</th>\n",
       "      <td>Mobile Developer</td>\n",
       "      <td>3+ years developing Android/iOS apps</td>\n",
       "      <td>Flutter, React Native, Swift, Kotlin, Dart, Ap...</td>\n",
       "      <td>As a Mobile Developer, you’ll lead the develop...</td>\n",
       "      <td>https://example.com/portfolio/mobile-developer</td>\n",
       "    </tr>\n",
       "    <tr>\n",
       "      <th>8</th>\n",
       "      <td>AI Researcher</td>\n",
       "      <td>6+ years of experience in AI research or acade...</td>\n",
       "      <td>Deep Learning, Reinforcement Learning, NLP, Tr...</td>\n",
       "      <td>Join our AI Research Lab to publish cutting-ed...</td>\n",
       "      <td>https://example.com/portfolio/ai-researcher</td>\n",
       "    </tr>\n",
       "    <tr>\n",
       "      <th>9</th>\n",
       "      <td>Full Stack Developer</td>\n",
       "      <td>5+ years of experience across frontend and bac...</td>\n",
       "      <td>JavaScript, React, Node.js, SQL, MongoDB, Grap...</td>\n",
       "      <td>We’re hiring a Full Stack Developer to lead en...</td>\n",
       "      <td>https://example.com/portfolio/full-stack-devel...</td>\n",
       "    </tr>\n",
       "  </tbody>\n",
       "</table>\n",
       "</div>"
      ],
      "text/plain": [
       "                        role  \\\n",
       "0             Data Scientist   \n",
       "1          Backend Developer   \n",
       "2         Frontend Developer   \n",
       "3            DevOps Engineer   \n",
       "4  Machine Learning Engineer   \n",
       "5     Cybersecurity Engineer   \n",
       "6             Cloud Engineer   \n",
       "7           Mobile Developer   \n",
       "8              AI Researcher   \n",
       "9       Full Stack Developer   \n",
       "\n",
       "                                          experience  \\\n",
       "0        5+ years of work experience in Data Science   \n",
       "1  4+ years of experience in backend systems and ...   \n",
       "2        3+ years of frontend development experience   \n",
       "3  5+ years working in cloud infrastructure and a...   \n",
       "4  4+ years of experience in machine learning dev...   \n",
       "5  5+ years of experience in securing infrastruct...   \n",
       "6  4+ years working with cloud services and infra...   \n",
       "7               3+ years developing Android/iOS apps   \n",
       "8  6+ years of experience in AI research or acade...   \n",
       "9  5+ years of experience across frontend and bac...   \n",
       "\n",
       "                                              skills  \\\n",
       "0  Statistical modeling, Causal inference, A/B te...   \n",
       "1  Node.js, Express.js, MongoDB, PostgreSQL, REST...   \n",
       "2  React, Redux, JavaScript, HTML5, CSS3, TypeScr...   \n",
       "3  AWS, Terraform, Kubernetes, Jenkins, CI/CD Pip...   \n",
       "4  Python, TensorFlow, PyTorch, scikit-learn, MLf...   \n",
       "5  Network Security, OWASP Top 10, Penetration Te...   \n",
       "6  Azure, AWS, Google Cloud Platform, Terraform, ...   \n",
       "7  Flutter, React Native, Swift, Kotlin, Dart, Ap...   \n",
       "8  Deep Learning, Reinforcement Learning, NLP, Tr...   \n",
       "9  JavaScript, React, Node.js, SQL, MongoDB, Grap...   \n",
       "\n",
       "                                         description  \\\n",
       "0  To achieve our ambitious goals, we’re looking ...   \n",
       "1  We’re seeking a Backend Developer to design sc...   \n",
       "2  We are looking for a Frontend Developer to bui...   \n",
       "3  Join our DevOps team to improve system reliabi...   \n",
       "4  We’re hiring an ML Engineer to deploy and opti...   \n",
       "5  We’re looking for a Cybersecurity Engineer to ...   \n",
       "6  Looking for a Cloud Engineer to design, deploy...   \n",
       "7  As a Mobile Developer, you’ll lead the develop...   \n",
       "8  Join our AI Research Lab to publish cutting-ed...   \n",
       "9  We’re hiring a Full Stack Developer to lead en...   \n",
       "\n",
       "                                               links  \n",
       "0       https://example.com/portfolio/data-scientist  \n",
       "1    https://example.com/portfolio/backend-developer  \n",
       "2   https://example.com/portfolio/frontend-developer  \n",
       "3      https://example.com/portfolio/devops-engineer  \n",
       "4  https://example.com/portfolio/machine-learning...  \n",
       "5  https://example.com/portfolio/cybersecurity-en...  \n",
       "6       https://example.com/portfolio/cloud-engineer  \n",
       "7     https://example.com/portfolio/mobile-developer  \n",
       "8        https://example.com/portfolio/ai-researcher  \n",
       "9  https://example.com/portfolio/full-stack-devel...  "
      ]
     },
     "execution_count": 23,
     "metadata": {},
     "output_type": "execute_result"
    }
   ],
   "source": [
    "import pandas as pd\n",
    "\n",
    "df = pd.read_csv(\"portfolio_roles.csv\")\n",
    "df"
   ]
  },
  {
   "cell_type": "code",
   "execution_count": 24,
   "id": "b286343f",
   "metadata": {},
   "outputs": [],
   "source": [
    "import uuid\n",
    "import chromadb\n",
    "\n",
    "client = chromadb.PersistentClient('vectorstore')\n",
    "collection = client.get_or_create_collection(name=\"portfolio\")\n",
    "\n",
    "if not collection.count():\n",
    "    for _, row in df.iterrows():\n",
    "        collection.add(documents=row[\"skills\"],\n",
    "                       metadatas={\"links\": row[\"links\"]},\n",
    "                       ids=[str(uuid.uuid4())])"
   ]
  },
  {
   "cell_type": "code",
   "execution_count": 30,
   "id": "30cc79d3",
   "metadata": {},
   "outputs": [
    {
     "data": {
      "text/plain": [
       "[[{'links': 'https://example.com/ml-python-portfolio'},\n",
       "  {'links': 'https://example.com/wordpress-portfolio'}],\n",
       " [{'links': 'https://example.com/ml-python-portfolio'},\n",
       "  {'links': 'https://example.com/android-tv-portfolio'}],\n",
       " [{'links': 'https://example.com/android-portfolio'},\n",
       "  {'links': 'https://example.com/ios-portfolio'}],\n",
       " [{'links': 'https://example.com/ml-python-portfolio'},\n",
       "  {'links': 'https://example.com/android-portfolio'}],\n",
       " [{'links': 'https://example.com/ml-python-portfolio'},\n",
       "  {'links': 'https://example.com/ios-portfolio'}],\n",
       " [{'links': 'https://example.com/ml-python-portfolio'},\n",
       "  {'links': 'https://example.com/wordpress-portfolio'}],\n",
       " [{'links': 'https://example.com/ml-python-portfolio'},\n",
       "  {'links': 'https://example.com/magento-portfolio'}],\n",
       " [{'links': 'https://example.com/magento-portfolio'},\n",
       "  {'links': 'https://example.com/wordpress-portfolio'}],\n",
       " [{'links': 'https://example.com/ml-python-portfolio'},\n",
       "  {'links': 'https://example.com/python-portfolio'}],\n",
       " [{'links': 'https://example.com/ml-python-portfolio'},\n",
       "  {'links': 'https://example.com/python-portfolio'}]]"
      ]
     },
     "execution_count": 30,
     "metadata": {},
     "output_type": "execute_result"
    }
   ],
   "source": [
    "links = collection.query(query_texts=job['skills'], n_results=2).get('metadatas', [])\n",
    "links"
   ]
  },
  {
   "cell_type": "code",
   "execution_count": 28,
   "id": "75ee57af",
   "metadata": {},
   "outputs": [
    {
     "data": {
      "text/plain": [
       "['Statistical modeling',\n",
       " 'Causal inference',\n",
       " 'A/B testing',\n",
       " 'Offline evaluations',\n",
       " 'Metric validation',\n",
       " 'Regression',\n",
       " 'Classification',\n",
       " 'SQL',\n",
       " 'Python',\n",
       " 'PySpark']"
      ]
     },
     "execution_count": 28,
     "metadata": {},
     "output_type": "execute_result"
    }
   ],
   "source": [
    "job = json_res\n",
    "job['skills']"
   ]
  },
  {
   "cell_type": "code",
   "execution_count": 33,
   "id": "d2153411",
   "metadata": {},
   "outputs": [
    {
     "name": "stdout",
     "output_type": "stream",
     "text": [
      "Subject: Expert Data Science Solutions for Grammarly's Ambitious Goals\n",
      "\n",
      "Dear Hiring Manager,\n",
      "\n",
      "I came across the job description for a Data Scientist at Grammarly, and I'm excited to introduce Beboom, an AI & Software Consulting company that can help you achieve your ambitious goals. With our expertise in data science and software development, we can support your growing Data team and community.\n",
      "\n",
      "Our team at Beboom has extensive experience in statistical modeling, causal inference, A/B testing, offline evaluations, metric validation, regression, and classification, which aligns perfectly with the skills required for the Data Scientist role. We're proficient in SQL, Python, and PySpark, ensuring seamless integration with your existing infrastructure.\n",
      "\n",
      "To demonstrate our capabilities, I'd like to share some relevant examples from our portfolio:\n",
      "\n",
      "* https://example.com/ml-python-portfolio (Machine Learning and Python solutions)\n",
      "* https://example.com/ml-python-portfolio (Data Science and Python expertise)\n",
      "* https://example.com/python-portfolio (Python-based projects and solutions)\n",
      "\n",
      "These examples showcase our ability to deliver tailored solutions that foster scalability, process optimization, cost reduction, and heightened overall efficiency. Our team is dedicated to empowering enterprises like Grammarly with automated tools, ensuring the seamless integration of business processes.\n",
      "\n",
      "I'd love to schedule a call to discuss how Beboom can support Grammarly's data science needs and help you achieve your goals. Please let me know if you're interested, and we can schedule a call at your convenience.\n",
      "\n",
      "Best regards,\n",
      "\n",
      "Arjun Reddy\n",
      "Business Development Executive\n",
      "Beboom\n"
     ]
    }
   ],
   "source": [
    "prompt_email = PromptTemplate.from_template(\n",
    "        \"\"\"\n",
    "        ### JOB DESCRIPTION:\n",
    "        {job_description}\n",
    "        \n",
    "        ### INSTRUCTION:\n",
    "        You are Arjun Reddy, a business development executive at Beboom. Beboom is an AI & Software Consulting company dedicated to facilitating\n",
    "        the seamless integration of business processes through automated tools. \n",
    "        Over our experience, we have empowered numerous enterprises with tailored solutions, fostering scalability, \n",
    "        process optimization, cost reduction, and heightened overall efficiency. \n",
    "        Your job is to write a cold email to the client regarding the job mentioned above describing the capability of AtliQ \n",
    "        in fulfilling their needs.\n",
    "        Also add the most relevant ones from the following links to showcase Beboom's portfolio: {link_list}\n",
    "        Remember you are Arjun Reddy, BDE at Bebbom. \n",
    "        Do not provide a preamble.\n",
    "        ### EMAIL (NO PREAMBLE):\n",
    "        \n",
    "        \"\"\"\n",
    "        )\n",
    "\n",
    "chain_email = prompt_email | llm\n",
    "res = chain_email.invoke({\"job_description\": str(job), \"link_list\": links})\n",
    "print(res.content)"
   ]
  }
 ],
 "metadata": {
  "kernelspec": {
   "display_name": "Python 3",
   "language": "python",
   "name": "python3"
  },
  "language_info": {
   "codemirror_mode": {
    "name": "ipython",
    "version": 3
   },
   "file_extension": ".py",
   "mimetype": "text/x-python",
   "name": "python",
   "nbconvert_exporter": "python",
   "pygments_lexer": "ipython3",
   "version": "3.10.0"
  }
 },
 "nbformat": 4,
 "nbformat_minor": 5
}
